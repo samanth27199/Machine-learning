{
 "cells": [
  {
   "cell_type": "code",
   "execution_count": 1,
   "id": "d48515fa",
   "metadata": {},
   "outputs": [],
   "source": [
    "#question -1\n",
    "ages = [19, 22, 19, 24, 20, 25, 26, 24, 25, 24]"
   ]
  },
  {
   "cell_type": "code",
   "execution_count": 2,
   "id": "06778258",
   "metadata": {},
   "outputs": [
    {
     "data": {
      "text/plain": [
       "list"
      ]
     },
     "execution_count": 2,
     "metadata": {},
     "output_type": "execute_result"
    }
   ],
   "source": [
    "type(ages)"
   ]
  },
  {
   "cell_type": "code",
   "execution_count": 3,
   "id": "8723cc1e",
   "metadata": {},
   "outputs": [],
   "source": [
    "ages.sort()"
   ]
  },
  {
   "cell_type": "code",
   "execution_count": 4,
   "id": "4fa21f09",
   "metadata": {},
   "outputs": [
    {
     "name": "stdout",
     "output_type": "stream",
     "text": [
      "[19, 19, 20, 22, 24, 24, 24, 25, 25, 26]\n"
     ]
    }
   ],
   "source": [
    "print(ages)\n"
   ]
  },
  {
   "cell_type": "code",
   "execution_count": 5,
   "id": "633432c0",
   "metadata": {},
   "outputs": [
    {
     "name": "stdout",
     "output_type": "stream",
     "text": [
      "19\n"
     ]
    }
   ],
   "source": [
    "#Program to find min and max for the variable age\n",
    "print(min(ages))"
   ]
  },
  {
   "cell_type": "code",
   "execution_count": 6,
   "id": "cde88159",
   "metadata": {},
   "outputs": [
    {
     "name": "stdout",
     "output_type": "stream",
     "text": [
      "26\n"
     ]
    }
   ],
   "source": [
    "#Program to find min and max for the variable age\n",
    "print(max(ages))"
   ]
  },
  {
   "cell_type": "code",
   "execution_count": 7,
   "id": "af4fda5e",
   "metadata": {},
   "outputs": [],
   "source": [
    "ages.append(min(ages))"
   ]
  },
  {
   "cell_type": "code",
   "execution_count": 8,
   "id": "8acc8d58",
   "metadata": {},
   "outputs": [
    {
     "name": "stdout",
     "output_type": "stream",
     "text": [
      "[19, 19, 20, 22, 24, 24, 24, 25, 25, 26, 19]\n"
     ]
    }
   ],
   "source": [
    "print(ages)"
   ]
  },
  {
   "cell_type": "code",
   "execution_count": 9,
   "id": "5eed5929",
   "metadata": {},
   "outputs": [],
   "source": [
    "ages.append(max(ages))"
   ]
  },
  {
   "cell_type": "code",
   "execution_count": 10,
   "id": "7a6a4f9d",
   "metadata": {},
   "outputs": [
    {
     "name": "stdout",
     "output_type": "stream",
     "text": [
      "[19, 19, 20, 22, 24, 24, 24, 25, 25, 26, 19, 26]\n"
     ]
    }
   ],
   "source": [
    "print(ages)"
   ]
  },
  {
   "cell_type": "code",
   "execution_count": 11,
   "id": "ebcb077f",
   "metadata": {},
   "outputs": [
    {
     "name": "stdout",
     "output_type": "stream",
     "text": [
      "[19, 19, 20, 22, 24, 24, 24, 25, 25, 26]\n",
      "The Sorted List is : [19, 19, 20, 22, 24, 24, 24, 25, 25, 26]\n",
      "Median of list is : 24.0\n"
     ]
    }
   ],
   "source": [
    "ages = [19, 22, 19, 24, 20, 25, 26, 24, 25, 24]\n",
    "\n",
    "#sorting the list to find the Median\n",
    "\n",
    "ages.sort()\n",
    "\n",
    "print(ages)\n",
    "  \n",
    "# printing list\n",
    "print(\"The Sorted List is : \" + str(ages))\n",
    "  \n",
    "  \n",
    "# Median of the provided list is Given Below\n",
    "\n",
    "# Using loop + \"~\" operator\n",
    "midValue = len(ages) // 2\n",
    "result = (ages[midValue] + ages[~midValue]) / 2\n",
    "  \n",
    "# Printing result\n",
    "print(\"Median of list is : \" + str(result))"
   ]
  },
  {
   "cell_type": "code",
   "execution_count": 12,
   "id": "e08ce943",
   "metadata": {},
   "outputs": [
    {
     "name": "stdout",
     "output_type": "stream",
     "text": [
      "228\n"
     ]
    }
   ],
   "source": [
    "print(sum(ages))"
   ]
  },
  {
   "cell_type": "code",
   "execution_count": 13,
   "id": "bba58da3",
   "metadata": {},
   "outputs": [
    {
     "name": "stdout",
     "output_type": "stream",
     "text": [
      "22.8\n"
     ]
    }
   ],
   "source": [
    "print(sum(ages)/len(ages))#Average Of the List"
   ]
  },
  {
   "cell_type": "code",
   "execution_count": 14,
   "id": "20c485b4",
   "metadata": {},
   "outputs": [
    {
     "name": "stdout",
     "output_type": "stream",
     "text": [
      "[19, 19, 20, 22, 24, 24, 24, 25, 25, 26]\n",
      "19\n",
      "26\n"
     ]
    }
   ],
   "source": [
    "ages = [19, 22, 19, 24, 20, 25, 26, 24, 25, 24]\n",
    "ages.sort()\n",
    "print(ages)\n",
    "print(ages[0])#Minimum value\n",
    "print(ages[9])#Maximum value"
   ]
  },
  {
   "cell_type": "code",
   "execution_count": null,
   "id": "a0ab02cd",
   "metadata": {},
   "outputs": [],
   "source": [
    "#Question -2\n"
   ]
  },
  {
   "cell_type": "code",
   "execution_count": 15,
   "id": "2854f4b0",
   "metadata": {},
   "outputs": [
    {
     "name": "stdout",
     "output_type": "stream",
     "text": [
      "<class 'dict'>\n"
     ]
    }
   ],
   "source": [
    "#Empty Dictionary\n",
    "dog={}\n",
    "print(type(dog))"
   ]
  },
  {
   "cell_type": "code",
   "execution_count": 16,
   "id": "8b977d24",
   "metadata": {},
   "outputs": [
    {
     "name": "stdout",
     "output_type": "stream",
     "text": [
      "{'name': 'Adisi', 'color': 'Brown', 'Breed': 'Labrador', 'legs': 'short', 'age': 4}\n",
      "Adisi\n"
     ]
    }
   ],
   "source": [
    "dog={'name':'Adisi','color':'Brown','Breed':'Labrador','legs':'short','age':4}\n",
    "print(dog)\n",
    "print(dog['name'])"
   ]
  },
  {
   "cell_type": "code",
   "execution_count": 17,
   "id": "c8a35611",
   "metadata": {},
   "outputs": [
    {
     "name": "stdout",
     "output_type": "stream",
     "text": [
      "{'first_name': 'samanth', 'last_name': 'Satvai', 'gender': 'Male', 'age': 21, 'martial status': 'Single', 'skills': ['c', 'Python', 'Java', 'SQL'], 'country': 'USA', 'city': 'Overland Park', 'address': '8601 W 131st Ter Overland Prk Kansas 66213'}\n",
      "samanth\n",
      "9\n",
      "['c', 'Python', 'Java', 'SQL']\n",
      "<class 'str'>\n",
      "['s', 'k', 'i', 'l', 'l', 's']\n",
      "<class 'str'>\n"
     ]
    }
   ],
   "source": [
    "MyDict={'first_name':'samanth', 'last_name':'Satvai' , 'gender':'Male', 'age':21, 'martial status':\"Single\", 'skills':['c','Python','Java','SQL'],'country':'USA', 'city': 'Overland Park', 'address':'8601 W 131st Ter Overland Prk Kansas 66213'}\n",
    "print(MyDict)\n",
    "print(MyDict['first_name'])\n",
    "print(len(MyDict))\n",
    "print(MyDict['skills'])\n",
    "print(type('skills'))\n",
    "print(list('skills'))\n",
    "print(type('skills'))"
   ]
  },
  {
   "cell_type": "code",
   "execution_count": 18,
   "id": "63f161b5",
   "metadata": {},
   "outputs": [
    {
     "ename": "TypeError",
     "evalue": "unhashable type: 'list'",
     "output_type": "error",
     "traceback": [
      "\u001b[0;31m---------------------------------------------------------------------------\u001b[0m",
      "\u001b[0;31mTypeError\u001b[0m                                 Traceback (most recent call last)",
      "Input \u001b[0;32mIn [18]\u001b[0m, in \u001b[0;36m<cell line: 2>\u001b[0;34m()\u001b[0m\n\u001b[1;32m      1\u001b[0m skills\u001b[38;5;241m=\u001b[39m[]\n\u001b[0;32m----> 2\u001b[0m MyDict\u001b[38;5;241m=\u001b[39m{\u001b[38;5;124m'\u001b[39m\u001b[38;5;124mfirst_name\u001b[39m\u001b[38;5;124m'\u001b[39m:\u001b[38;5;124m'\u001b[39m\u001b[38;5;124mSamanth\u001b[39m\u001b[38;5;124m'\u001b[39m, \u001b[38;5;124m'\u001b[39m\u001b[38;5;124mlast_name\u001b[39m\u001b[38;5;124m'\u001b[39m:\u001b[38;5;124m'\u001b[39m\u001b[38;5;124msalvia\u001b[39m\u001b[38;5;124m'\u001b[39m , \u001b[38;5;124m'\u001b[39m\u001b[38;5;124mgender\u001b[39m\u001b[38;5;124m'\u001b[39m:\u001b[38;5;124m'\u001b[39m\u001b[38;5;124mMale\u001b[39m\u001b[38;5;124m'\u001b[39m, \u001b[38;5;124m'\u001b[39m\u001b[38;5;124mage\u001b[39m\u001b[38;5;124m'\u001b[39m:\u001b[38;5;241m21\u001b[39m, \u001b[38;5;124m'\u001b[39m\u001b[38;5;124mmartial status\u001b[39m\u001b[38;5;124m'\u001b[39m:\u001b[38;5;124m\"\u001b[39m\u001b[38;5;124mSingle\u001b[39m\u001b[38;5;124m\"\u001b[39m, \n\u001b[1;32m      3\u001b[0m     skills:[],\u001b[38;5;124m'\u001b[39m\u001b[38;5;124mcountry\u001b[39m\u001b[38;5;124m'\u001b[39m:\u001b[38;5;124m'\u001b[39m\u001b[38;5;124mUSA\u001b[39m\u001b[38;5;124m'\u001b[39m, \u001b[38;5;124m'\u001b[39m\u001b[38;5;124mcity\u001b[39m\u001b[38;5;124m'\u001b[39m: \u001b[38;5;124m'\u001b[39m\u001b[38;5;124mOverland Park\u001b[39m\u001b[38;5;124m'\u001b[39m, \u001b[38;5;124m'\u001b[39m\u001b[38;5;124maddress\u001b[39m\u001b[38;5;124m'\u001b[39m:\u001b[38;5;124m'\u001b[39m\u001b[38;5;124m8601 W 131st Ter Overland Prk Kansas 66213\u001b[39m\u001b[38;5;124m'\u001b[39m}\n\u001b[1;32m      4\u001b[0m MyDict[skills]\u001b[38;5;241m+\u001b[39m\u001b[38;5;241m=\u001b[39m[\u001b[38;5;124m'\u001b[39m\u001b[38;5;124mc\u001b[39m\u001b[38;5;124m'\u001b[39m,\u001b[38;5;124m'\u001b[39m\u001b[38;5;124mPython\u001b[39m\u001b[38;5;124m'\u001b[39m,\u001b[38;5;124m'\u001b[39m\u001b[38;5;124mJava\u001b[39m\u001b[38;5;124m'\u001b[39m,\u001b[38;5;124m'\u001b[39m\u001b[38;5;124mSQL\u001b[39m\u001b[38;5;124m'\u001b[39m]\n\u001b[1;32m      5\u001b[0m \u001b[38;5;28mprint\u001b[39m(MyDict)\n",
      "\u001b[0;31mTypeError\u001b[0m: unhashable type: 'list'"
     ]
    }
   ],
   "source": [
    "    skills=[]\n",
    "MyDict={'first_name':'Samanth', 'last_name':'salvia' , 'gender':'Male', 'age':21, 'martial status':\"Single\", \n",
    "        skills:[],'country':'USA', 'city': 'Overland Park', 'address':'8601 W 131st Ter Overland Prk Kansas 66213'}\n",
    "MyDict[skills]+=['c','Python','Java','SQL']\n",
    "print(MyDict)\n",
    "print(type(skills))"
   ]
  },
  {
   "cell_type": "code",
   "execution_count": 19,
   "id": "1702b94c",
   "metadata": {},
   "outputs": [
    {
     "name": "stdout",
     "output_type": "stream",
     "text": [
      "The Added vakues in the List are: {'first_name': 'samanth', 'last_name': 'satvai', 'gender': 'Male', 'age': 21, 'martial status': 'Single', 'skills': ['c', 'Python', 'Java', 'SQL', 'AWS', 'Java-Script'], 'country': 'USA', 'city': 'Overland Park', 'address': '8601 W 131st Ter Overland Prk Kansas 66213'}\n"
     ]
    }
   ],
   "source": [
    "MyDict={'first_name':'samanth', 'last_name':'satvai' , 'gender':'Male', 'age':21, 'martial status':\"Single\", 'skills':['c','Python','Java','SQL'],'country':'USA', 'city': 'Overland Park', 'address':'8601 W 131st Ter Overland Prk Kansas 66213'}\n",
    "MyDict['skills'].append('AWS')\n",
    "MyDict['skills'].append('Java-Script')\n",
    "print(\"The Added vakues in the List are:\",MyDict)"
   ]
  },
  {
   "cell_type": "code",
   "execution_count": 20,
   "id": "4afa34d7",
   "metadata": {},
   "outputs": [
    {
     "name": "stdout",
     "output_type": "stream",
     "text": [
      "dict_keys(['first_name', 'last_name', 'gender', 'age', 'martial status', 'skills', 'country', 'city', 'address'])\n",
      "dict_values(['samanth', 'satvai', 'Male', 21, 'Single', ['c', 'Python', 'Java', 'SQL'], 'USA', 'Overland Park', '8601 W 131st Ter Overland Prk Kansas 66213'])\n"
     ]
    }
   ],
   "source": [
    "MyDict={'first_name':'samanth', 'last_name':'satvai' , 'gender':'Male', 'age':21, 'martial status':\"Single\", 'skills':['c','Python','Java','SQL'],'country':'USA', 'city': 'Overland Park', 'address':'8601 W 131st Ter Overland Prk Kansas 66213'}\n",
    "print(MyDict.keys())#Here we are accesing keys from MyDict\n",
    "print(MyDict.values())"
   ]
  },
  {
   "cell_type": "code",
   "execution_count": 21,
   "id": "269bff04",
   "metadata": {},
   "outputs": [
    {
     "name": "stdout",
     "output_type": "stream",
     "text": [
      "<class 'tuple'>\n",
      "The People in the Tuple are : ('Mahitha', 'Suma', 'JayaSree')\n",
      "The People in the Tuple are: ('Hemanth', 'Vikranth', 'Chaitanya')\n",
      "On a Whole my Sibilings are : ('Mahitha', 'Suma', 'JayaSree', 'Hemanth', 'Vikranth', 'Chaitanya')\n",
      "Lenght of the tuple named sibilings is : 6\n",
      "The Name of my parents are : ('Mohana Venkata Siva Rama Raju', 'Rupa Devi')\n",
      "The names of my Family members are: ('Mahitha', 'Suma', 'JayaSree', 'Hemanth', 'Vikranth', 'Chaitanya', 'Mohana Venkata Siva Rama Raju', 'Rupa Devi')\n"
     ]
    }
   ],
   "source": [
    "#Question -3\n",
    "MySisters=('Mahitha','Suma','JayaSree')\n",
    "print(type(MySisters))\n",
    "print(\"The People in the Tuple are :\",MySisters)\n",
    "MyBrothers=(\"Hemanth\",\"Vikranth\",\"Chaitanya\")\n",
    "print(\"The People in the Tuple are:\",MyBrothers)\n",
    "sibilings = MySisters+MyBrothers\n",
    "print(\"On a Whole my Sibilings are :\",sibilings)\n",
    "print(\"Lenght of the tuple named sibilings is :\",len(sibilings))\n",
    "MyParentNames=(\"Mohana Venkata Siva Rama Raju\",\"Rupa Devi\")\n",
    "print(\"The Name of my parents are :\",MyParentNames)\n",
    "family_members=sibilings+MyParentNames\n",
    "print(\"The names of my Family members are:\",family_members)\n"
   ]
  },
  {
   "cell_type": "code",
   "execution_count": 22,
   "id": "7707121f",
   "metadata": {},
   "outputs": [
    {
     "name": "stdout",
     "output_type": "stream",
     "text": [
      "7\n",
      "It Companies are : {'IBM', 'Facebook', 'Apple', 'Oracle', 'Twitter', 'Google', 'Amazon', 'Microsoft'}\n",
      "Names of the Multiple Company names which are added to the Original One : {'Facebook', 'Oracle', 'Amazon', 'DBS', 'Google', 'IBM', 'Apple', 'Infosys', 'Twitter', 'TCS', 'NCR', 'Microsoft'}\n",
      "Joining the sets of A and will be : {19, 20, 22, 24, 25, 26, 27, 28}\n",
      "Intersection of the sets A and B is : {19, 20, 22, 24, 25, 26}\n",
      "Finding Whether A is Subset of B? (T/F): True\n",
      "Finding Whether A and B are Disjoint sets or not? False\n",
      "The Symmetric difference between the two sets A And are: {27, 28}\n",
      "<class 'list'>\n",
      "{19, 20, 22, 24, 25, 26}\n",
      "<class 'list'>\n",
      "The Lenght of list and set are not same\n"
     ]
    }
   ],
   "source": [
    "#Question -4\n",
    "it_companies = {'Facebook', 'Google', 'Microsoft', 'Apple', 'IBM', 'Oracle', 'Amazon'}\n",
    "print(len(it_companies))\n",
    "it_companies.add(\"Twitter\")\n",
    "print(\"It Companies are :\",it_companies)#Here in Set while adding the items in it, it randomly allocates its place anywhere in the set\n",
    "it_companies.update([\"DBS\",\"NCR\",\"TCS\",\"Infosys\"])#Here in Set as add() only supports only one argument we woiuld be using update() to add multiple items\n",
    "print(\"Names of the Multiple Company names which are added to the Original One :\",it_companies)\n",
    "it_companies.remove(\"Twitter\")#Here for removing a particualr element we would be using remove() ,to remove a random element we would be using pop() method\n",
    "A = {19, 22, 24, 20, 25, 26}\n",
    "B = {19, 22, 20, 25, 26, 24, 28, 27}\n",
    "Res=A.union(B)\n",
    "print(\"Joining the sets of A and will be :\",Res)#Here Union Combines all the elements in the two sets which doesnt include the duplicates in both of the sets\n",
    "Res1=A.intersection(B)\n",
    "print(\"Intersection of the sets A and B is :\",Res1)#It returns the common items present in the two sets\n",
    "print(\"Finding Whether A is Subset of B? (T/F):\",A.issubset(B))#Here as all the elements in  A are in B we can say that A is Subset of B,if it isnt true then issubset() return false basically it returns Boolean Values based on the Context\n",
    "print(\"Finding Whether A and B are Disjoint sets or not?\",A.isdisjoint(B))#Here it is false because there are similar items that are present in the both of the sets.The main Criteria for Disjoint Sets is that it shouldn't have common items present.\n",
    "print(\"The Symmetric difference between the two sets A And are:\",B.symmetric_difference(A))\n",
    "#It Basically caluculates{(A\\B)∪(B\\A)} to find Symmetric Difference\n",
    "ages = [19, 22, 19, 24, 20, 25, 26, 24, 25, 24]\n",
    "print(type(ages))\n",
    "print(set(ages))\n",
    "print(type(ages))#List Converted to set.\n",
    "#Below is the code for comparing the lenght for both list and set.\n",
    "if len(ages)==len(A):\n",
    "    print(\"Both the set and List are having same no of items i.e Lenght\")\n",
    "else:\n",
    "    print(\"The Lenght of list and set are not same\")\n",
    "\n"
   ]
  },
  {
   "cell_type": "code",
   "execution_count": 23,
   "id": "e6897a0d",
   "metadata": {},
   "outputs": [
    {
     "ename": "NameError",
     "evalue": "name 'A' is not defined",
     "output_type": "error",
     "traceback": [
      "\u001b[0;31m---------------------------------------------------------------------------\u001b[0m",
      "\u001b[0;31mNameError\u001b[0m                                 Traceback (most recent call last)",
      "Input \u001b[0;32mIn [23]\u001b[0m, in \u001b[0;36m<cell line: 2>\u001b[0;34m()\u001b[0m\n\u001b[1;32m      1\u001b[0m \u001b[38;5;28;01mdel\u001b[39;00m A\n\u001b[0;32m----> 2\u001b[0m \u001b[38;5;28mprint\u001b[39m(\u001b[43mA\u001b[49m)\u001b[38;5;66;03m#Error\u001b[39;00m\n\u001b[1;32m      3\u001b[0m \u001b[38;5;28;01mdel\u001b[39;00m B\n\u001b[1;32m      4\u001b[0m \u001b[38;5;28mprint\u001b[39m(B)\n",
      "\u001b[0;31mNameError\u001b[0m: name 'A' is not defined"
     ]
    }
   ],
   "source": [
    "del A\n",
    "print(A)#Error\n",
    "del B\n",
    "print(B)\n",
    "#Here it has deleted the set which we have preferred so that the Python Virtual Machine cannot find the set that is present in the memory"
   ]
  },
  {
   "cell_type": "code",
   "execution_count": null,
   "id": "07a5c000",
   "metadata": {},
   "outputs": [],
   "source": [
    "Question-5"
   ]
  },
  {
   "cell_type": "code",
   "execution_count": 24,
   "id": "61d3eef6",
   "metadata": {},
   "outputs": [
    {
     "name": "stdout",
     "output_type": "stream",
     "text": [
      "Area of Circle is: 2826.0\n",
      "The Circumference of the Circle  is: 188.4\n"
     ]
    }
   ],
   "source": [
    "def AreaOfCircle(radius):\n",
    "    _area_of_circle_= 3.14*radius*radius\n",
    "    print(\"Area of Circle is:\",_area_of_circle_)\n",
    "def CircumferenceOfCircle(radius):\n",
    "    _circum_of_circle_ = 2*3.14*radius\n",
    "    return _circum_of_circle_ #Return the Circum Value\n",
    "AreaOfCircle(30)\n",
    "Circumference=CircumferenceOfCircle(30)#this holds the circumference value of the circle\n",
    "print(\"The Circumference of the Circle  is:\",Circumference)\n"
   ]
  },
  {
   "cell_type": "code",
   "execution_count": 25,
   "id": "8756ee01",
   "metadata": {},
   "outputs": [
    {
     "name": "stdout",
     "output_type": "stream",
     "text": [
      "Enter the radius for the Circle: 35\n",
      "Area of Circle is: 3846.5\n"
     ]
    }
   ],
   "source": [
    "Input_radius=int(input(\"Enter the radius for the Circle: \"))#Here we are converting the string input to Integer by doing Type_Casting\n",
    "def AreaOfCircle(radius):\n",
    "    _area_of_circle_= 3.14*radius*radius\n",
    "    print(\"Area of Circle is:\",_area_of_circle_)\n",
    "AreaOfCircle(Input_radius)"
   ]
  },
  {
   "cell_type": "code",
   "execution_count": null,
   "id": "9f192593",
   "metadata": {},
   "outputs": [],
   "source": [
    "Question-6"
   ]
  },
  {
   "cell_type": "code",
   "execution_count": 26,
   "id": "056ea21b",
   "metadata": {},
   "outputs": [
    {
     "name": "stdout",
     "output_type": "stream",
     "text": [
      "Please Enter the String/Sentence king is always a king\n",
      "{'k', 'y', 'g', ' ', 'l', 'n', 'a', 'w', 's', 'i'}\n",
      "['king', 'is', 'always', 'a', 'king']\n"
     ]
    }
   ],
   "source": [
    "#Input=“I am a teacher and I love to inspire and teach people”\n",
    "string1 = input(\"Please Enter the String/Sentence \")\n",
    "Res = set(string1)#set returns the unique items in the String as it is immutable we have to store it in the variable\n",
    "print(Res)#creates set and include items\n",
    "Res1=list(string1.split())#Here i have used split() to divide the words and casted to store them in the form of a List.\n",
    "print(Res1)"
   ]
  },
  {
   "cell_type": "code",
   "execution_count": null,
   "id": "850ae2a0",
   "metadata": {},
   "outputs": [],
   "source": [
    "Question-7"
   ]
  },
  {
   "cell_type": "code",
   "execution_count": 27,
   "id": "54cd1130",
   "metadata": {},
   "outputs": [
    {
     "name": "stdout",
     "output_type": "stream",
     "text": [
      "Name\tAge\tCountry\tCity\n",
      "Asbeneh\t 250\t Finland Helsinki\n"
     ]
    }
   ],
   "source": [
    "#Using Tab Escape Sequence character\n",
    "#Name Age Country City\n",
    " #Asabeneh 250 Finland Helsinki\n",
    "print('Name\\tAge\\tCountry\\tCity\\nAsbeneh\\t 250\\t Finland Helsinki')"
   ]
  },
  {
   "cell_type": "code",
   "execution_count": null,
   "id": "e524404f",
   "metadata": {},
   "outputs": [],
   "source": [
    "Question-8"
   ]
  },
  {
   "cell_type": "code",
   "execution_count": 28,
   "id": "0f38f955",
   "metadata": {},
   "outputs": [
    {
     "name": "stdout",
     "output_type": "stream",
     "text": [
      "The area of circle with a radius 10 is 314 square meter.\n"
     ]
    }
   ],
   "source": [
    "radius = 10# 1st %d\n",
    "area = 3.14 * radius ** 2#Here %d represents the integer that to be displayed\n",
    "formated_string = 'The area of circle with a radius %d is %d square meter.' %(radius, area)\n",
    "print(formated_string)"
   ]
  },
  {
   "cell_type": "code",
   "execution_count": null,
   "id": "9edfe308",
   "metadata": {},
   "outputs": [],
   "source": [
    "Question-9"
   ]
  },
  {
   "cell_type": "code",
   "execution_count": 29,
   "id": "ac0fdda4",
   "metadata": {},
   "outputs": [
    {
     "name": "stdout",
     "output_type": "stream",
     "text": [
      "Enter the number of students2\n",
      "Enter the 0th weights(lbs)50\n",
      "Enter the 1th weights(lbs)55\n",
      "[22.6796, 24.94756]\n"
     ]
    }
   ],
   "source": [
    "# Number of entries for students\n",
    "no_of_students = int(input(\"Enter the number of students\"))\n",
    "wts = []\n",
    "for i in range(no_of_students):\n",
    "    txt = \"Enter the \" + str(i) + \"th weights(lbs)\" \n",
    "    wts.append(float(input(txt)))\n",
    "kgs = []\n",
    "for wt in wts:\n",
    "    kgs.append(wt * 0.453592) #Conversion factor\n",
    "print(kgs)\n"
   ]
  },
  {
   "cell_type": "code",
   "execution_count": null,
   "id": "d4772f77",
   "metadata": {},
   "outputs": [],
   "source": []
  }
 ],
 "metadata": {
  "kernelspec": {
   "display_name": "Python 3 (ipykernel)",
   "language": "python",
   "name": "python3"
  },
  "language_info": {
   "codemirror_mode": {
    "name": "ipython",
    "version": 3
   },
   "file_extension": ".py",
   "mimetype": "text/x-python",
   "name": "python",
   "nbconvert_exporter": "python",
   "pygments_lexer": "ipython3",
   "version": "3.9.12"
  }
 },
 "nbformat": 4,
 "nbformat_minor": 5
}
