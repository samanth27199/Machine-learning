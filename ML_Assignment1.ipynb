{
 "cells": [
  {
   "cell_type": "code",
   "execution_count": 1,
   "id": "006b7a0f",
   "metadata": {},
   "outputs": [],
   "source": [
    "#question -1\n",
    "ages = [19, 22, 19, 24, 20, 25, 26, 24, 25, 24]"
   ]
  },
  {
   "cell_type": "code",
   "execution_count": 2,
   "id": "08b4f495",
   "metadata": {},
   "outputs": [
    {
     "data": {
      "text/plain": [
       "list"
      ]
     },
     "execution_count": 2,
     "metadata": {},
     "output_type": "execute_result"
    }
   ],
   "source": [
    "type(ages)"
   ]
  },
  {
   "cell_type": "code",
   "execution_count": 3,
   "id": "4f1b4652",
   "metadata": {},
   "outputs": [],
   "source": [
    "ages.sort()"
   ]
  },
  {
   "cell_type": "code",
   "execution_count": 4,
   "id": "1cc6ce7b",
   "metadata": {},
   "outputs": [
    {
     "name": "stdout",
     "output_type": "stream",
     "text": [
      "[19, 19, 20, 22, 24, 24, 24, 25, 25, 26]\n"
     ]
    }
   ],
   "source": [
    "print(ages)\n"
   ]
  },
  {
   "cell_type": "code",
   "execution_count": 5,
   "id": "bc0f1eba",
   "metadata": {},
   "outputs": [
    {
     "name": "stdout",
     "output_type": "stream",
     "text": [
      "19\n"
     ]
    }
   ],
   "source": [
    "#Program to find min and max for the variable age\n",
    "print(min(ages))"
   ]
  },
  {
   "cell_type": "code",
   "execution_count": 6,
   "id": "45477169",
   "metadata": {},
   "outputs": [
    {
     "name": "stdout",
     "output_type": "stream",
     "text": [
      "26\n"
     ]
    }
   ],
   "source": [
    "#Program to find min and max for the variable age\n",
    "print(max(ages))"
   ]
  },
  {
   "cell_type": "code",
   "execution_count": 7,
   "id": "fa12d8c0",
   "metadata": {},
   "outputs": [],
   "source": [
    "ages.append(min(ages))"
   ]
  },
  {
   "cell_type": "code",
   "execution_count": 8,
   "id": "f7a2823b",
   "metadata": {},
   "outputs": [
    {
     "name": "stdout",
     "output_type": "stream",
     "text": [
      "[19, 19, 20, 22, 24, 24, 24, 25, 25, 26, 19]\n"
     ]
    }
   ],
   "source": [
    "print(ages)"
   ]
  },
  {
   "cell_type": "code",
   "execution_count": 9,
   "id": "42a5dbb3",
   "metadata": {},
   "outputs": [],
   "source": [
    "ages.append(max(ages))"
   ]
  },
  {
   "cell_type": "code",
   "execution_count": 10,
   "id": "d11d2f4b",
   "metadata": {},
   "outputs": [
    {
     "name": "stdout",
     "output_type": "stream",
     "text": [
      "[19, 19, 20, 22, 24, 24, 24, 25, 25, 26, 19, 26]\n"
     ]
    }
   ],
   "source": [
    "print(ages)"
   ]
  },
  {
   "cell_type": "code",
   "execution_count": 11,
   "id": "bd5c87d0",
   "metadata": {},
   "outputs": [
    {
     "name": "stdout",
     "output_type": "stream",
     "text": [
      "[19, 19, 20, 22, 24, 24, 24, 25, 25, 26]\n",
      "The Sorted List is : [19, 19, 20, 22, 24, 24, 24, 25, 25, 26]\n",
      "Median of list is : 24.0\n"
     ]
    }
   ],
   "source": [
    "ages = [19, 22, 19, 24, 20, 25, 26, 24, 25, 24]\n",
    "\n",
    "#sorting the list to find the Median\n",
    "\n",
    "ages.sort()\n",
    "\n",
    "print(ages)\n",
    "  \n",
    "# printing list\n",
    "print(\"The Sorted List is : \" + str(ages))\n",
    "  \n",
    "  \n",
    "# Median of the provided list is Given Below\n",
    "\n",
    "# Using loop + \"~\" operator\n",
    "midValue = len(ages) // 2\n",
    "result = (ages[midValue] + ages[~midValue]) / 2\n",
    "  \n",
    "# Printing result\n",
    "print(\"Median of list is : \" + str(result))"
   ]
  },
  {
   "cell_type": "code",
   "execution_count": 12,
   "id": "1d3cd2e9",
   "metadata": {},
   "outputs": [
    {
     "name": "stdout",
     "output_type": "stream",
     "text": [
      "228\n"
     ]
    }
   ],
   "source": [
    "print(sum(ages))"
   ]
  },
  {
   "cell_type": "code",
   "execution_count": 13,
   "id": "5b7f7bc2",
   "metadata": {},
   "outputs": [
    {
     "name": "stdout",
     "output_type": "stream",
     "text": [
      "22.8\n"
     ]
    }
   ],
   "source": [
    "print(sum(ages)/len(ages))#Average Of the List"
   ]
  },
  {
   "cell_type": "code",
   "execution_count": 14,
   "id": "d100dcda",
   "metadata": {},
   "outputs": [
    {
     "name": "stdout",
     "output_type": "stream",
     "text": [
      "[19, 19, 20, 22, 24, 24, 24, 25, 25, 26]\n",
      "19\n",
      "26\n"
     ]
    }
   ],
   "source": [
    "ages = [19, 22, 19, 24, 20, 25, 26, 24, 25, 24]\n",
    "ages.sort()\n",
    "print(ages)\n",
    "print(ages[0])#Minimum value\n",
    "print(ages[9])#Maximum value"
   ]
  },
  {
   "cell_type": "code",
   "execution_count": 15,
   "id": "4ec3fbb2",
   "metadata": {},
   "outputs": [],
   "source": [
    "#Question -2\n"
   ]
  },
  {
   "cell_type": "code",
   "execution_count": 16,
   "id": "3528ebcd",
   "metadata": {},
   "outputs": [
    {
     "name": "stdout",
     "output_type": "stream",
     "text": [
      "<class 'dict'>\n"
     ]
    }
   ],
   "source": [
    "#Empty Dictionary\n",
    "dog={}\n",
    "print(type(dog))"
   ]
  },
  {
   "cell_type": "code",
   "execution_count": 17,
   "id": "503456fd",
   "metadata": {},
   "outputs": [
    {
     "name": "stdout",
     "output_type": "stream",
     "text": [
      "{'name': 'Adisi', 'color': 'Brown', 'Breed': 'Labrador', 'legs': 'short', 'age': 4}\n",
      "Adisi\n"
     ]
    }
   ],
   "source": [
    "dog={'name':'Adisi','color':'Brown','Breed':'Labrador','legs':'short','age':4}\n",
    "print(dog)\n",
    "print(dog['name'])"
   ]
  },
  {
   "cell_type": "code",
   "execution_count": 18,
   "id": "dd662b9f",
   "metadata": {},
   "outputs": [
    {
     "name": "stdout",
     "output_type": "stream",
     "text": [
      "{'first_name': 'Samanth', 'last_name': 'satvai', 'gender': 'Male', 'age': '25', 'marital status': 'Single', 'skills': 'Reading', 'country': 'India', 'city': 'Hyderabad', 'address': 'KPHB'}\n",
      "9\n",
      "Reading\n",
      "<class 'str'>\n",
      "{'first_name': 'Samanth', 'last_name': 'satvai', 'gender': 'Male', 'age': '25', 'marital status': 'Single', 'skills': ('cycling', 'music'), 'country': 'India', 'city': 'Hyderabad', 'address': 'KPHB'}\n",
      "dict_keys(['first_name', 'last_name', 'gender', 'age', 'marital status', 'skills', 'country', 'city', 'address'])\n",
      "dict_values(['Samanth', 'satvai', 'Male', '25', 'Single', ('cycling', 'music'), 'India', 'Hyderabad', 'KPHB'])\n"
     ]
    }
   ],
   "source": [
    "student = {'first_name':'Samanth', 'last_name':'satvai', 'gender':'Male', 'age':'25', 'marital status':'Single','skills':'Reading', 'country':'India', 'city':'Hyderabad', 'address':'KPHB'}\n",
    "print (student) #printing the student dictionary\n",
    "print(len(student)) #finding the length of the student dictionary using len function\n",
    "print(student['skills']) #Getting the value of skills\n",
    "print(type(student['skills'])) #checking the data type of skills\n",
    "student['skills']='cycling','music' #updating the skills\n",
    "print(student)\n",
    "keys = print(student.keys()) #getting the dictionary keys as list\n",
    "values = print(student.values()) #getting the dictionary values as list"
   ]
  },
  {
   "cell_type": "code",
   "execution_count": 19,
   "id": "13b21f4e",
   "metadata": {},
   "outputs": [
    {
     "name": "stdout",
     "output_type": "stream",
     "text": [
      "The Added vakues in the List are: {'first_name': 'samanth', 'last_name': 'satvai', 'gender': 'Male', 'age': 21, 'martial status': 'Single', 'skills': ['c', 'Python', 'Java', 'SQL', 'AWS', 'Java-Script'], 'country': 'USA', 'city': 'Overland Park', 'address': '8601 W 131st Ter Overland Prk Kansas 66213'}\n"
     ]
    }
   ],
   "source": [
    "MyDict={'first_name':'samanth', 'last_name':'satvai' , 'gender':'Male', 'age':21, 'martial status':\"Single\", 'skills':['c','Python','Java','SQL'],'country':'USA', 'city': 'Overland Park', 'address':'8601 W 131st Ter Overland Prk Kansas 66213'}\n",
    "MyDict['skills'].append('AWS')\n",
    "MyDict['skills'].append('Java-Script')\n",
    "print(\"The Added vakues in the List are:\",MyDict)"
   ]
  },
  {
   "cell_type": "code",
   "execution_count": 20,
   "id": "cac79438",
   "metadata": {},
   "outputs": [
    {
     "name": "stdout",
     "output_type": "stream",
     "text": [
      "dict_keys(['first_name', 'last_name', 'gender', 'age', 'martial status', 'skills', 'country', 'city', 'address'])\n",
      "dict_values(['samanth', 'satvai', 'Male', 21, 'Single', ['c', 'Python', 'Java', 'SQL'], 'USA', 'Overland Park', '8601 W 131st Ter Overland Prk Kansas 66213'])\n"
     ]
    }
   ],
   "source": [
    "MyDict={'first_name':'samanth', 'last_name':'satvai' , 'gender':'Male', 'age':21, 'martial status':\"Single\", 'skills':['c','Python','Java','SQL'],'country':'USA', 'city': 'Overland Park', 'address':'8601 W 131st Ter Overland Prk Kansas 66213'}\n",
    "print(MyDict.keys())#Here we are accesing keys from MyDict\n",
    "print(MyDict.values())"
   ]
  },
  {
   "cell_type": "code",
   "execution_count": 21,
   "id": "bdb4fc25",
   "metadata": {},
   "outputs": [
    {
     "name": "stdout",
     "output_type": "stream",
     "text": [
      "<class 'tuple'>\n",
      "The People in the Tuple are : ('Mahitha', 'Suma', 'JayaSree')\n",
      "The People in the Tuple are: ('Hemanth', 'Vikranth', 'Chaitanya')\n",
      "On a Whole my Sibilings are : ('Mahitha', 'Suma', 'JayaSree', 'Hemanth', 'Vikranth', 'Chaitanya')\n",
      "Lenght of the tuple named sibilings is : 6\n",
      "The Name of my parents are : ('Mohana Venkata Siva Rama Raju', 'Rupa Devi')\n",
      "The names of my Family members are: ('Mahitha', 'Suma', 'JayaSree', 'Hemanth', 'Vikranth', 'Chaitanya', 'Mohana Venkata Siva Rama Raju', 'Rupa Devi')\n"
     ]
    }
   ],
   "source": [
    "#Question -3\n",
    "MySisters=('Mahitha','Suma','JayaSree')\n",
    "print(type(MySisters))\n",
    "print(\"The People in the Tuple are :\",MySisters)\n",
    "MyBrothers=(\"Hemanth\",\"Vikranth\",\"Chaitanya\")\n",
    "print(\"The People in the Tuple are:\",MyBrothers)\n",
    "sibilings = MySisters+MyBrothers\n",
    "print(\"On a Whole my Sibilings are :\",sibilings)\n",
    "print(\"Lenght of the tuple named sibilings is :\",len(sibilings))\n",
    "MyParentNames=(\"Mohana Venkata Siva Rama Raju\",\"Rupa Devi\")\n",
    "print(\"The Name of my parents are :\",MyParentNames)\n",
    "family_members=sibilings+MyParentNames\n",
    "print(\"The names of my Family members are:\",family_members)\n"
   ]
  },
  {
   "cell_type": "code",
   "execution_count": 22,
   "id": "998556b0",
   "metadata": {},
   "outputs": [
    {
     "name": "stdout",
     "output_type": "stream",
     "text": [
      "7\n",
      "It Companies are : {'Twitter', 'Apple', 'IBM', 'Oracle', 'Google', 'Microsoft', 'Amazon', 'Facebook'}\n",
      "Names of the Multiple Company names which are added to the Original One : {'Apple', 'Microsoft', 'Twitter', 'IBM', 'Oracle', 'Google', 'TCS', 'Amazon', 'Infosys', 'NCR', 'DBS', 'Facebook'}\n",
      "Joining the sets of A and will be : {19, 20, 22, 24, 25, 26, 27, 28}\n",
      "Intersection of the sets A and B is : {19, 20, 22, 24, 25, 26}\n",
      "Finding Whether A is Subset of B? (T/F): True\n",
      "Finding Whether A and B are Disjoint sets or not? False\n",
      "The Symmetric difference between the two sets A And are: {27, 28}\n",
      "<class 'list'>\n",
      "{19, 20, 22, 24, 25, 26}\n",
      "<class 'list'>\n",
      "The Lenght of list and set are not same\n",
      "True\n"
     ]
    }
   ],
   "source": [
    "#Question -4\n",
    "it_companies = {'Facebook', 'Google', 'Microsoft', 'Apple', 'IBM', 'Oracle', 'Amazon'}\n",
    "print(len(it_companies))\n",
    "it_companies.add(\"Twitter\")\n",
    "print(\"It Companies are :\",it_companies)#Here in Set while adding the items in it, it randomly allocates its place anywhere in the set\n",
    "it_companies.update([\"DBS\",\"NCR\",\"TCS\",\"Infosys\"])#Here in Set as add() only supports only one argument we woiuld be using update() to add multiple items\n",
    "print(\"Names of the Multiple Company names which are added to the Original One :\",it_companies)\n",
    "it_companies.remove(\"Twitter\")#Here for removing a particualr element we would be using remove() ,to remove a random element we would be using pop() method\n",
    "A = {19, 22, 24, 20, 25, 26}\n",
    "B = {19, 22, 20, 25, 26, 24, 28, 27}\n",
    "Res=A.union(B)\n",
    "print(\"Joining the sets of A and will be :\",Res)#Here Union Combines all the elements in the two sets which doesnt include the duplicates in both of the sets\n",
    "Res1=A.intersection(B)\n",
    "print(\"Intersection of the sets A and B is :\",Res1)#It returns the common items present in the two sets\n",
    "print(\"Finding Whether A is Subset of B? (T/F):\",A.issubset(B))#Here as all the elements in  A are in B we can say that A is Subset of B,if it isnt true then issubset() return false basically it returns Boolean Values based on the Context\n",
    "print(\"Finding Whether A and B are Disjoint sets or not?\",A.isdisjoint(B))#Here it is false because there are similar items that are present in the both of the sets.The main Criteria for Disjoint Sets is that it shouldn't have common items present.\n",
    "print(\"The Symmetric difference between the two sets A And are:\",B.symmetric_difference(A))\n",
    "#It Basically caluculates{(A\\B)∪(B\\A)} to find Symmetric Difference\n",
    "ages = [19, 22, 19, 24, 20, 25, 26, 24, 25, 24]\n",
    "print(type(ages))\n",
    "print(set(ages))\n",
    "print(type(ages))#List Converted to set.\n",
    "#Below is the code for comparing the lenght for both list and set.\n",
    "if len(ages)==len(A):\n",
    "    print(\"Both the set and List are having same no of items i.e Lenght\")\n",
    "else:\n",
    "    print(\"The Lenght of list and set are not same\")\n",
    "    \n",
    "del A\n",
    "\n",
    "del B\n",
    "\n",
    "#Here it has deleted the set which we have preferred so that the Python Virtual Machine cannot find the set that is present in the memory\n",
    "age=set(ages) #converting age to set\n",
    "print(len(age)<=len(ages)) #comparing the length of set and list\n"
   ]
  },
  {
   "cell_type": "code",
   "execution_count": 23,
   "id": "1deb36ff",
   "metadata": {},
   "outputs": [],
   "source": [
    "#Question-5"
   ]
  },
  {
   "cell_type": "code",
   "execution_count": 24,
   "id": "92d76cd8",
   "metadata": {},
   "outputs": [
    {
     "name": "stdout",
     "output_type": "stream",
     "text": [
      "Area of Circle is: 2826.0\n",
      "The Circumference of the Circle  is: 188.4\n"
     ]
    }
   ],
   "source": [
    "def AreaOfCircle(radius):\n",
    "    _area_of_circle_= 3.14*radius*radius\n",
    "    print(\"Area of Circle is:\",_area_of_circle_)\n",
    "def CircumferenceOfCircle(radius):\n",
    "    _circum_of_circle_ = 2*3.14*radius\n",
    "    return _circum_of_circle_ #Return the Circum Value\n",
    "AreaOfCircle(30)\n",
    "Circumference=CircumferenceOfCircle(30)#this holds the circumference value of the circle\n",
    "print(\"The Circumference of the Circle  is:\",Circumference)\n"
   ]
  },
  {
   "cell_type": "code",
   "execution_count": 25,
   "id": "0041d44a",
   "metadata": {},
   "outputs": [
    {
     "name": "stdout",
     "output_type": "stream",
     "text": [
      "Enter the radius for the Circle: 30\n",
      "Area of Circle is: 2826.0\n"
     ]
    }
   ],
   "source": [
    "Input_radius=int(input(\"Enter the radius for the Circle: \"))#Here we are converting the string input to Integer by doing Type_Casting\n",
    "def AreaOfCircle(radius):\n",
    "    _area_of_circle_= 3.14*radius*radius\n",
    "    print(\"Area of Circle is:\",_area_of_circle_)\n",
    "AreaOfCircle(Input_radius)"
   ]
  },
  {
   "cell_type": "code",
   "execution_count": 26,
   "id": "fe214a2a",
   "metadata": {},
   "outputs": [],
   "source": [
    "#Question-6"
   ]
  },
  {
   "cell_type": "code",
   "execution_count": 30,
   "id": "1390ece2",
   "metadata": {},
   "outputs": [
    {
     "name": "stdout",
     "output_type": "stream",
     "text": [
      "Please Enter the String/Sentence King is always a king\n",
      "{'s', 'l', 'n', 'K', ' ', 'y', 'g', 'w', 'a', 'i', 'k'}\n",
      "['King', 'is', 'always', 'a', 'king']\n"
     ]
    }
   ],
   "source": [
    "#Input=“I am a teacher and I love to inspire and teach people”\n",
    "string1 = input(\"Please Enter the String/Sentence \")\n",
    "Res = set(string1)#set returns the unique items in the String as it is immutable we have to store it in the variable\n",
    "print(Res)#creates set and include items\n",
    "Res1=list(string1.split())#Here i have used split() to divide the words and casted to store them in the form of a List.\n",
    "print(Res1)"
   ]
  },
  {
   "cell_type": "code",
   "execution_count": 32,
   "id": "3b124277",
   "metadata": {},
   "outputs": [],
   "source": [
    "#Question-7"
   ]
  },
  {
   "cell_type": "code",
   "execution_count": 33,
   "id": "dc9139e5",
   "metadata": {},
   "outputs": [
    {
     "name": "stdout",
     "output_type": "stream",
     "text": [
      "Name\tAge\tCountry\tCity\n",
      "Asbeneh\t 250\t Finland Helsinki\n"
     ]
    }
   ],
   "source": [
    "#Using Tab Escape Sequence character\n",
    "#Name Age Country City\n",
    " #Asabeneh 250 Finland Helsinki\n",
    "print('Name\\tAge\\tCountry\\tCity\\nAsbeneh\\t 250\\t Finland Helsinki')"
   ]
  },
  {
   "cell_type": "code",
   "execution_count": 35,
   "id": "d2f94cc5",
   "metadata": {},
   "outputs": [],
   "source": [
    "#Question-8"
   ]
  },
  {
   "cell_type": "code",
   "execution_count": 36,
   "id": "d291bcb9",
   "metadata": {},
   "outputs": [
    {
     "name": "stdout",
     "output_type": "stream",
     "text": [
      "The area of circle with a radius 10 is 314 square meter.\n"
     ]
    }
   ],
   "source": [
    "radius = 10# 1st %d\n",
    "area = 3.14 * radius ** 2#Here %d represents the integer that to be displayed\n",
    "formated_string = 'The area of circle with a radius %d is %d square meter.' %(radius, area)\n",
    "print(formated_string)"
   ]
  },
  {
   "cell_type": "code",
   "execution_count": 37,
   "id": "048b43d8",
   "metadata": {},
   "outputs": [],
   "source": [
    "#Question-9"
   ]
  },
  {
   "cell_type": "code",
   "execution_count": 38,
   "id": "1ac7e57e",
   "metadata": {},
   "outputs": [
    {
     "name": "stdout",
     "output_type": "stream",
     "text": [
      "Enter the number of students2\n",
      "Enter the 0th weights(lbs)50\n",
      "Enter the 1th weights(lbs)55\n",
      "[22.6796, 24.94756]\n"
     ]
    }
   ],
   "source": [
    "# Number of entries for students\n",
    "no_of_students = int(input(\"Enter the number of students\"))\n",
    "wts = []\n",
    "for i in range(no_of_students):\n",
    "    txt = \"Enter the \" + str(i) + \"th weights(lbs)\" \n",
    "    wts.append(float(input(txt)))\n",
    "kgs = []\n",
    "for wt in wts:\n",
    "    kgs.append(wt * 0.453592) #Conversion factor\n",
    "print(kgs)\n"
   ]
  },
  {
   "cell_type": "code",
   "execution_count": null,
   "id": "3bac1ee8",
   "metadata": {},
   "outputs": [],
   "source": []
  }
 ],
 "metadata": {
  "kernelspec": {
   "display_name": "Python 3 (ipykernel)",
   "language": "python",
   "name": "python3"
  },
  "language_info": {
   "codemirror_mode": {
    "name": "ipython",
    "version": 3
   },
   "file_extension": ".py",
   "mimetype": "text/x-python",
   "name": "python",
   "nbconvert_exporter": "python",
   "pygments_lexer": "ipython3",
   "version": "3.9.12"
  }
 },
 "nbformat": 4,
 "nbformat_minor": 5
}
